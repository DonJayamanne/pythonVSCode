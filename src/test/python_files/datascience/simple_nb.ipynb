{
    "cells": [
        {
            "cell_type": "code",
            "execution_count": 2,
            "metadata": {},
            "outputs": [],
            "source": [
                "with open('ds_n.log', 'a') as fp:\n",
                "    fp.write('Hello World')\n",
                "\n"
            ]
        },
        {
            "cell_type": "code",
            "execution_count": null,
            "metadata": {},
            "outputs": [],
            "source": []
        }
    ],
    "nbformat": 4,
    "nbformat_minor": 2,
    "metadata": {
        "language_info": {
            "name": "python",
            "codemirror_mode": {
                "name": "ipython",
                "version": 3
            },
            "version": "3.7.4"
        },
        "orig_nbformat": 2,
        "file_extension": ".py",
        "mimetype": "text/x-python",
        "name": "python",
        "npconvert_exporter": "python",
        "pygments_lexer": "ipython3",
        "version": 3
    }
}